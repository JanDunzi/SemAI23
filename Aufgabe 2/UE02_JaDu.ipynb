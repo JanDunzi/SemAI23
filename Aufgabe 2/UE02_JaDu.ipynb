{
  "cells": [
    {
      "cell_type": "markdown",
      "metadata": {
        "id": "BS4vo37YWsYf"
      },
      "source": [
        "# UE02 - RDF and RDF Schema\n",
        "\n",
        "Before you start with this notebook, complete the eight tasks in the `1. RDF` sheet of `SemAI.jar`. You will then make use of your solutions in this notebook. \n",
        "\n",
        "## Task 0: Preparation\n",
        "\n",
        "Preparation (Installs and Imports). \n",
        "\n",
        "\n"
      ]
    },
    {
      "cell_type": "code",
      "source": [
        "# Install required packages in the current Jupyter kernel\n",
        "!pip install -q rdflib \n",
        "!pip install -q pydot\n",
        "!pip install -q owlrl\n",
        "\n",
        "!pip install networkx pyvis\n",
        "\n",
        "import rdflib\n",
        "from rdflib import Graph, Literal, RDF, URIRef, BNode, Namespace, Dataset\n",
        "import networkx as nx\n",
        "from pyvis.network import Network\n",
        "import requests\n",
        "from IPython.display import display, HTML, Image\n",
        "import os\n",
        "import pydot\n",
        "import owlrl\n",
        "from rdflib.namespace import FOAF , XSD , RDFS \n",
        "\n",
        "\n"
      ],
      "metadata": {
        "id": "UNTabDt9SLuw"
      },
      "execution_count": null,
      "outputs": []
    },
    {
      "cell_type": "markdown",
      "source": [
        "## Task 1:  Improve interactive RDF graph visualization (1 pt)\n",
        "\n",
        "Improve function `visualize_graph_pyvis` (from `V01_rdf.ipynb`) as follows:\n",
        "- an optional `base` parameter\n",
        "- abbreviate the labels of nodes and edges in the same way as in `visualize_graph`. \n",
        "- make sure that blank node IDs are not shown in the visualization. \n",
        "\n",
        "Optional features: \n",
        "- use different graphical forms for literals and URIs\n",
        "- (add further improvements as you like)\n",
        "\n",
        "Test the function with `rdf_str` and with your solution to task `0. Intro` in the `1. RDF` sheet in `SemAI.jar`."
      ],
      "metadata": {
        "id": "vc2iBjkcQQvD"
      }
    },
    {
      "cell_type": "code",
      "source": [
        "g = Graph()\n",
        "g.parse(\"https://github.com/JanDunzi/SemAI23/blob/main/Aufgabe%202/test.xml\", format= \"text/xml\")"
      ],
      "metadata": {
        "id": "nUTaGslc9PAr"
      },
      "execution_count": null,
      "outputs": []
    },
    {
      "cell_type": "code",
      "source": [
        "rdf_str = \"\"\"BASE   <http://example.org/>\n",
        "PREFIX foaf: <http://xmlns.com/foaf/0.1/>\n",
        "PREFIX xsd: <http://www.w3.org/2001/XMLSchema#>\n",
        "PREFIX schema: <http://schema.org/>\n",
        "PREFIX dcterms: <http://purl.org/dc/terms/>\n",
        "PREFIX wd: <http://www.wikidata.org/entity/>\n",
        " \n",
        "<bob#me>\n",
        "   a foaf:Person ;\n",
        "   foaf:knows <alice#me> ;\n",
        "   schema:birthDate \"1990-07-04\"^^xsd:date ;\n",
        "   foaf:topic_interest wd:Q12418 .\n",
        "   \n",
        "wd:Q12418\n",
        "  dcterms:title \"Mona Lisa\" ;\n",
        "  dcterms:creator <http://dbpedia.org/resource/Leonardo_da_Vinci> .\n",
        "\n",
        "<http://data.europeana.eu/item/04802/243FA8618938F4117025F17A8B813C5F9AA4D619>\n",
        "  dcterms:subject wd:Q12418 .\n",
        "\"\"\"\n",
        "\n",
        "\n"
      ],
      "metadata": {
        "id": "Y3-jE3kNQAY4"
      },
      "execution_count": null,
      "outputs": []
    },
    {
      "cell_type": "markdown",
      "source": [
        "## Task 2:  Print RDF graph as HTML table (1 pt)\n",
        "\n",
        "Implement a function `rdf2htmltable(g)` that \n",
        "- takes as parameter an rdflib.Graph \n",
        "- generates and displays an HTML table representing that graph with\n",
        "  - one line per RDF statement \n",
        "  - three columns (subject, predicate, object) \n",
        "  - URIs should be shown in abbreviated form and be represented as links (`href=<full URI>`)\n",
        "\n",
        "Test the function with `rdf_str` and with your solution to task `0. Intro` in the `1. RDF` sheet in `SemAI.jar`."
      ],
      "metadata": {
        "id": "yF2WQ0YsQbhH"
      }
    },
    {
      "cell_type": "code",
      "source": [
        "\n",
        "\n"
      ],
      "metadata": {
        "id": "Hz7PpFVjTkZG"
      },
      "execution_count": null,
      "outputs": []
    },
    {
      "cell_type": "markdown",
      "source": [
        "## Task 3: A function for parsing and displaying an RDF graph (1 pt)\n",
        "\n",
        "A function `parse_display_rdf(str)` that takes as parameter a string which represents an RDF graph in Turtle notation and \n",
        "- produces an rdflib.Graph from that string\n",
        "- prints the graph in Turte notation\n",
        "- prints the graph in RDF/XML\n",
        "- visualizes it using `visualize_graph` (to be taken from `V01_rdf.ipynb`)\n",
        "- visualizes it using (your improved version of) `visualize_graph_pyvis`\n",
        "- outputs it using `rdf2htmltable` (only if you have implemented this function)\n",
        "\n",
        "Test the function with `rdf_str` and with your solution to task `0. Intro` in the `1. RDF` sheet in `SemAI.jar`."
      ],
      "metadata": {
        "id": "AvL1cSUQQNFg"
      }
    },
    {
      "cell_type": "code",
      "source": [
        "def visualize_graph(g,base=None):\n",
        "\n",
        "  def node_id(graph,term):\n",
        "    if isinstance(term,Literal): return term.n3(graph.namespace_manager)\n",
        "    else: return f\"\\\"{term.n3(graph.namespace_manager)}\\\"\"\n",
        "\n",
        "  def add_node(dg,g,t,base):\n",
        "    if isinstance(t,URIRef):\n",
        "      lbl = f\"\\\"{t.n3(g.namespace_manager)}\\\"\"\n",
        "      if(base): lbl = lbl.replace(base,\"\")\n",
        "      if(len(lbl)>25): lbl = lbl[:12] + \"...\" +  lbl[-12:] \n",
        "      dg.add_node(pydot.Node( node_id(g,t), label=lbl ))\n",
        "    if isinstance(t,Literal):\n",
        "      dg.add_node(pydot.Node( node_id(g,t), label=t.n3(g.namespace_manager), shape=\"box\"))\n",
        "    if isinstance(t,BNode):\n",
        "      dg.add_node(pydot.Node( node_id(g,t), label=\"\"))    \n",
        "\n",
        "  def add_edge(dg,g,s,p,o):\n",
        "    dg.add_edge(pydot.Edge(node_id(g,s), node_id(g,o), label=f\"\\\"{p.n3(g.namespace_manager)}\\\"\"))\n",
        "\n",
        "  dg = pydot.Dot('my_graph', graph_type='digraph',layout='sfdp', splines='curved' )\n",
        "\n",
        "  for subj in g.subjects(None,None): add_node(dg,g,subj,base)\n",
        "  for obj in g.objects(None,None): add_node(dg,g,obj,base)\n",
        "  for (s,p,o) in g: add_edge(dg,g,s,p,o)   \n",
        "\n",
        "  display(Image(dg.create_png()))\n",
        "\n",
        "def parse_display_rdf(str):\n",
        "    g = Graph()\n",
        "    g.parse(format=\"turtle\",data=str)\n",
        "    print(g.serialize(format=\"turtle\",base=\"http://example.org/\"))\n",
        "    print(g.serialize(format=\"xml\",base=\"http://example.org/\"))\n",
        "    visualize_graph(g, base=\"http://example.org/\")\n",
        "\n",
        "parse_display_rdf(\"\"\"\n",
        "@prefix rdf:  <http://www.w3.org/1999/02/22-rdf-syntax-ns#> .\n",
        "@prefix foaf: <http://xmlns.com/foaf/0.1/> .\n",
        "@prefix ex:   <http://www.ex.org/> .\n",
        "\n",
        "ex:John rdf:type foaf:Person ;\n",
        "  foaf:knows ex:Mary .\n",
        "\"\"\")\n"
      ],
      "metadata": {
        "id": "nr-PRsrzTnQP"
      },
      "execution_count": null,
      "outputs": []
    },
    {
      "cell_type": "markdown",
      "source": [
        "# Tasks 4-10 (1 point each)\n",
        "\n",
        "For each of the remaining 7 tasks in the \"1. RDF\" sheet in `SemAI.jar` do the following: \n",
        "- add a text cell in this notebook \n",
        "  - with the description of the task from `SemAI.jar` \n",
        "  - with number and title (e.g., **1. Simple Data Graph**)  from `SemAI.jar` as header \n",
        "- add a code cell where you apply `parse_display_rdf(str)` on your solution"
      ],
      "metadata": {
        "id": "6efAFC8dQexI"
      }
    },
    {
      "cell_type": "markdown",
      "source": [
        "1. Simple Data Graph\n",
        "\n",
        "Create an RDF graph in Turtle notation. Use the FOAF vocabulary to state the following.\n",
        "\n",
        "Mary and Jim are persons. Mary knows Jim. Mary is 27 years old. The URIs for the two persons should be http://www.ex.org/person#Mary and http://www.ex.org/person#Jim. The age of Mary should be represented as an integer."
      ],
      "metadata": {
        "id": "mGMCpfuTUg-1"
      }
    },
    {
      "cell_type": "code",
      "source": [
        "parse_display_rdf(\"\"\"\n",
        "@prefix rdf:  <http://www.w3.org/1999/02/22-rdf-syntax-ns#> . \n",
        "@prefix rdfs: <http://www.w3.org/2000/01/rdf-schema#> . \n",
        "@prefix xsd:  <http://www.w3.org/2001/XMLSchema#> . \n",
        "@prefix foaf: <http://xmlns.com/foaf/0.1/> . \n",
        "@prefix :     <http://www.ex.org/person#> .  \n",
        ":Mary rdf:type foaf:Person ;    \n",
        "  foaf:knows :Jim ;    \n",
        "  foaf:age \"27\"^^xsd:integer .  \n",
        ":Jim rdf:type foaf:Person .\n",
        "\"\"\")"
      ],
      "metadata": {
        "id": "OCPeci1HUicn"
      },
      "execution_count": null,
      "outputs": []
    },
    {
      "cell_type": "markdown",
      "source": [
        "2. Simple Schema\n",
        "\n",
        "Create a vocabulary using RDFS in Turtle. Specify\n",
        "\n",
        "Classes Company, Employee, and Person Property worksFor between Employee and Company Property salary of Employee with Integer as data type Class Employee is a subclass of Person Use XSD for data types. The URIs of classes and properties are in namespace http://www.ex.org/vocabulary#, for example, http://www.ex.org/vocabulary#Company"
      ],
      "metadata": {
        "id": "IgT4m-nzVCx7"
      }
    },
    {
      "cell_type": "code",
      "source": [
        "parse_display_rdf(\"\"\"\n",
        "@prefix rdf:  <http://www.w3.org/1999/02/22-rdf-syntax-ns#> .\n",
        "@prefix rdfs: <http://www.w3.org/2000/01/rdf-schema#> .\n",
        "@prefix xsd:  <http://www.w3.org/2001/XMLSchema#> .\n",
        "@prefix :     <http://www.ex.org/vocabulary#> .\n",
        "\n",
        ":Company a rdfs:Class .\n",
        ":Person a rdfs:Class .\n",
        ":Employee a rdfs:Class ;\n",
        " rdfs:subClassOf :Person .\n",
        "\n",
        ":worksFor a rdf:Property ;\n",
        " rdfs:domain :Employee ;\n",
        " rdfs:range :Company .\n",
        "\n",
        ":salary a rdf:Property ;\n",
        " rdfs:domain :Employee ;\n",
        " rdfs:range xsd:integer .\n",
        "\n",
        "\"\"\")"
      ],
      "metadata": {
        "id": "JDrdFXP_VDV7"
      },
      "execution_count": null,
      "outputs": []
    },
    {
      "cell_type": "markdown",
      "source": [
        "3. Reification\n",
        "\n",
        "Create an RDF graph in Turtle notation. Use the RDF vocabulary where applicable and the example namesspace (ex:) for all other resources (ex:Mary, ex:John, ex:says, ex:loves). Hint: the lecture slides contain a similar reification example.\n",
        "\n",
        "Mary says that John loves her."
      ],
      "metadata": {
        "id": "UYlhkLVeVEk3"
      }
    },
    {
      "cell_type": "code",
      "source": [
        "parse_display_rdf(\"\"\"\n",
        "@prefix rdf:  <http://www.w3.org/1999/02/22-rdf-syntax-ns#> .\n",
        "@prefix ex:   <http://www.ex.org/> .\n",
        "\n",
        "ex:Mary ex:says ex:Statement .\n",
        "\n",
        "ex:Statement a rdf:Statement;\n",
        " rdf:subject ex:John ;\n",
        " rdf:predicate ex:loves ;\n",
        " rdf:object ex:Mary .\n",
        "\n",
        "\"\"\")"
      ],
      "metadata": {
        "id": "Ttxup999VD4A"
      },
      "execution_count": null,
      "outputs": []
    },
    {
      "cell_type": "markdown",
      "source": [
        "4. Blank Node\n",
        "\n",
        "Create an RDF graph in Turtle notation. Use the RDF and FOAF vocabularies where applicable and the example namesspace (ex:) for the other resources.\n",
        "\n",
        "John knows a person, who knows Mary. Use a blank node to represent that anonymous person."
      ],
      "metadata": {
        "id": "Fl9M1U_wVIkg"
      }
    },
    {
      "cell_type": "code",
      "source": [
        "parse_display_rdf(\"\"\"\n",
        "@prefix rdf:  <http://www.w3.org/1999/02/22-rdf-syntax-ns#> .\n",
        "@prefix foaf: <http://xmlns.com/foaf/0.1/> .\n",
        "@prefix ex:   <http://www.ex.org/> .\n",
        "\n",
        "ex:John foaf:knows [\n",
        "                  a foaf:Person ;\n",
        "                  foaf:knows ex:Mary\n",
        "                 ] .\n",
        "\n",
        "\"\"\")"
      ],
      "metadata": {
        "id": "Qtq-euDPVL7v"
      },
      "execution_count": null,
      "outputs": []
    },
    {
      "cell_type": "markdown",
      "source": [
        "5. Multiple Classification\n",
        "\n",
        "Create an RDF graph in Turtle notation. Use the RDF vocabulary where applicable and the example namesspace (ex:) for the other resources.\n",
        "\n",
        "John is an instance of SoccerPlayer and of Student."
      ],
      "metadata": {
        "id": "YjPUwMeZVMTk"
      }
    },
    {
      "cell_type": "code",
      "source": [
        "parse_display_rdf(\"\"\"\n",
        "@prefix rdf:  <http://www.w3.org/1999/02/22-rdf-syntax-ns#> .\n",
        "@prefix ex:   <http://www.ex.org/> .\n",
        "\n",
        "ex:John a ex:SoccerPlayer .\n",
        "ex:John a ex:Student .\n",
        "\n",
        "\"\"\")"
      ],
      "metadata": {
        "id": "tweZfD4VVOwX"
      },
      "execution_count": null,
      "outputs": []
    },
    {
      "cell_type": "markdown",
      "source": [
        "6. Metamodeling\n",
        "\n",
        "Create an RDF graph in Turtle notation. Use the RDF and RDF Schema vocabularies where applicable and the example namesspace (ex:) for the other resources.\n",
        "\n",
        "Dog and Cat are instances of Species and subclasses of Animal. Lassie is an instance of Dog."
      ],
      "metadata": {
        "id": "cB7W8bcpVPGZ"
      }
    },
    {
      "cell_type": "code",
      "source": [
        "parse_display_rdf(\"\"\"\n",
        "@prefix rdf:  <http://www.w3.org/1999/02/22-rdf-syntax-ns#> . \n",
        "@prefix rdfs: <http://www.w3.org/2000/01/rdf-schema#> . \n",
        "@prefix ex:   <http://www.ex.org/> .  \n",
        "ex:Dog a ex:Species ;\n",
        "   rdfs:subClassOf ex:Animal . \n",
        "ex:Cat a ex:Species ;\n",
        "   rdfs:subClassOf ex:Animal . \n",
        "ex:Lassie a ex:Dog .\n",
        "\n",
        "\n",
        "\"\"\")"
      ],
      "metadata": {
        "id": "3cEch3LnVSR9"
      },
      "execution_count": null,
      "outputs": []
    },
    {
      "cell_type": "markdown",
      "source": [
        "7. Properties\n",
        "\n",
        "Create an RDF graph in Turtle notation. Use the RDF and RDF Schema vocabularies where applicable and the example namesspace (ex:) for the other resources, e.g., ex:childOf, ex:descendantOf.\n",
        "\n",
        "Everyone who is a child of someone, is also a descendant of that someone."
      ],
      "metadata": {
        "id": "lReATqxeVSmP"
      }
    },
    {
      "cell_type": "code",
      "source": [
        "parse_display_rdf(\"\"\"\n",
        "@prefix rdf:  <http://www.w3.org/1999/02/22-rdf-syntax-ns#> .\n",
        "@prefix rdfs: <http://www.w3.org/2000/01/rdf-schema#> . \n",
        "@prefix ex:   <http://www.ex.org/> .  \n",
        "\n",
        "ex:childOf   rdfs:subPropertyOf   ex:descendantOf .\n",
        "\"\"\")"
      ],
      "metadata": {
        "id": "eIC9wASKVU_M"
      },
      "execution_count": null,
      "outputs": []
    }
  ],
  "metadata": {
    "kernelspec": {
      "display_name": "Python 3",
      "language": "python",
      "name": "python3"
    },
    "language_info": {
      "codemirror_mode": {
        "name": "ipython",
        "version": 3
      },
      "file_extension": ".py",
      "mimetype": "text/x-python",
      "name": "python",
      "nbconvert_exporter": "python",
      "pygments_lexer": "ipython3",
      "version": "3.6.7"
    },
    "colab": {
      "provenance": []
    }
  },
  "nbformat": 4,
  "nbformat_minor": 0
}