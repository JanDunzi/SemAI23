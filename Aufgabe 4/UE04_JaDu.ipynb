{
  "nbformat": 4,
  "nbformat_minor": 0,
  "metadata": {
    "colab": {
      "provenance": []
    },
    "kernelspec": {
      "name": "python3",
      "display_name": "Python 3"
    },
    "language_info": {
      "name": "python"
    }
  },
  "cells": [
    {
      "cell_type": "markdown",
      "source": [
        "Course Instructor: Bernd Neumayr, JKU\n",
        "\n",
        "# UE04- SPARQL Updata and RDF Datasets\n",
        "\n",
        "Complete the **8 tasks (1 point per task)** in the `3. SPARQL Update` sheet of `SemAI.jar` first and then transfer them to this notebook.\n",
        "\n",
        "For each task include:\n",
        "- A headline including the task number\n",
        "- The task description \n",
        "- Your solution in executable form: your solutions for SemAI.jar will make use of the default grap. In this notebook you have to transform your solutions according to the workaround exemplified in V04_SPARQL_Update.ipynb\n",
        "- After executing the update request, print a serizalization of the dataset in TriG format.  \n",
        "\n",
        "**Task 9 (2 points)**  is to develop a nice visualization of RDF datasets using `visualize_graph_pyvis` from UE02 as a starting point. The requirements are as follows:\n",
        "- Each named graph must be represented as an independent graph. This means, for example, that :Jane in :JanesGraph is a different node than :Jane in :BillsGraph. There are no edges between nodes in different graphs.\n",
        "- It is not strictly necessary to draw a box around each named graph, as seen in the slides. The different named graphs should simply be visually distinguishable and not overlap.\n",
        "- If not all nodes within a named graph are connected, make sure in the visualization that the named graph still forms a coherent visual unit in some way."
      ],
      "metadata": {
        "id": "HnpijZy2D1Hd"
      }
    },
    {
      "cell_type": "markdown",
      "source": [
        "# Preparation"
      ],
      "metadata": {
        "id": "iI66NRb_5BjV"
      }
    },
    {
      "cell_type": "code",
      "source": [
        "# Install required packages\n",
        "!pip install -q rdflib \n",
        "\n",
        "# Imports\n",
        "import pandas as pd\n",
        "import rdflib\n",
        "from rdflib import Graph, Literal, RDF, URIRef, BNode, Namespace\n",
        "\n",
        "\n",
        "# Convenient Functions\n",
        "def sparql_select(graph,query,use_prefixes=True):\n",
        "  results = graph.query(query)          # execute the query against the graph, resulting in a rdflib.plugins.sparql.processor.SPARQLResult\n",
        "  rows = []                             # a list of dictionaries, as intermediate format to construct the pandas DataFrame\n",
        "  for result in results:                # iterate over the result set of the query, a result is an instance of rdflib.query.ResultRow\n",
        "    row = {}                            #     create a dictionary to hold a single row of the result\n",
        "    for var in results.vars:            #     iterate over the variables of the SPARQLResult to add a dictionary entry for each variable\n",
        "      if (isinstance(result[var],URIRef) and use_prefixes):\n",
        "        row[var] = result[var].n3(graph.namespace_manager)   # use namespace prefixes to shorten URIs\n",
        "      else:\n",
        "        row[var] = result[var]                  \n",
        "    rows.append(row)                    #     add the dictionary (row) to the list \n",
        "  return pd.DataFrame(rows,columns=results.vars)        \n",
        "                                        # return a pandas DataFrame constructed from the list of dictionaries, with the variables from the result set as columns      \n",
        "\n",
        "g = rdflib.Graph()\n",
        "g.parse(format=\"turtle\", data=\"\"\"\n",
        "  prefix rdf: <http://www.w3.org/1999/02/22-rdf-syntax-ns#>\n",
        "  prefix : <http://example.org/>\n",
        "\"\"\")\n",
        "\n",
        "ds = rdflib.Dataset()"
      ],
      "metadata": {
        "id": "ldbFmiW044Ls"
      },
      "execution_count": 148,
      "outputs": []
    },
    {
      "cell_type": "markdown",
      "source": [
        "# Task 1\n",
        "Sie beginnen mit einem leeren Dataset. Fügen Sie in den Default Graph Statements ein, die sagen, dass :Peter der Autor von :G1 ist, und :Mary Autor von :G2. \n"
      ],
      "metadata": {
        "id": "Y2GTF55L4def"
      }
    },
    {
      "cell_type": "code",
      "source": [
        "g.update(\"\"\"\n",
        "INSERT DATA {\n",
        ":G1 :author :Mary.\n",
        ":G2 :author :Peter.\n",
        "}\n",
        "\"\"\")\n",
        "\n",
        "print(g.serialize(format=\"trig\"))"
      ],
      "metadata": {
        "colab": {
          "base_uri": "https://localhost:8080/"
        },
        "id": "3tp76crF4mpA",
        "outputId": "5e28e0d0-6046-4e90-99c0-194a413cfe27"
      },
      "execution_count": 149,
      "outputs": [
        {
          "output_type": "stream",
          "name": "stdout",
          "text": [
            "@prefix : <http://example.org/> .\n",
            "\n",
            "_:N9fc31d1489df42a3ab03fe4682d2c980 {\n",
            "    :G1 :author :Mary .\n",
            "\n",
            "    :G2 :author :Peter .\n",
            "}\n",
            "\n",
            "\n"
          ]
        }
      ]
    },
    {
      "cell_type": "markdown",
      "source": [
        "# Task 2\n",
        "Schreiben Sie { :Mary :knows :Peter, :John, :Mary. } in den Named Graph :G1 und { :Peter :knows :Mary. :John :knows :Mary. } in den Named Graph :G2. \n"
      ],
      "metadata": {
        "id": "2b3EXLSO7bZq"
      }
    },
    {
      "cell_type": "code",
      "source": [
        "ds.parse(format=\"trig\", data=\"\"\"\n",
        "@prefix : <http://example.org/> .\n",
        "\n",
        ":main {\n",
        "  :G1 :author :Mary .\n",
        "  :G2 :author :Peter .\n",
        "}\n",
        "\n",
        "\"\"\")\n",
        "\n",
        "ds.update(\"\"\"\n",
        "INSERT DATA {\n",
        "  GRAPH :G1 {\n",
        "    :Mary :knows :Peter, :John, :Mary. \n",
        "  }\n",
        "  GRAPH :G2 {\n",
        "    :Peter :knows :Mary. \n",
        "   :John :knows :Mary.\n",
        "  }\n",
        "}\n",
        "\n",
        "\"\"\")\n",
        "\n",
        "print(ds.serialize(format=\"trig\"))"
      ],
      "metadata": {
        "colab": {
          "base_uri": "https://localhost:8080/"
        },
        "outputId": "922ee6ec-cad4-4170-cd68-dd12089d2afb",
        "id": "_M9_8JIo7lFh"
      },
      "execution_count": 150,
      "outputs": [
        {
          "output_type": "stream",
          "name": "stdout",
          "text": [
            "@prefix : <http://example.org/> .\n",
            "\n",
            ":main {\n",
            "    :G1 :author :Mary .\n",
            "\n",
            "    :G2 :author :Peter .\n",
            "}\n",
            "\n",
            ":G2 {\n",
            "    :John :knows :Mary .\n",
            "\n",
            "    :Peter :knows :Mary .\n",
            "}\n",
            "\n",
            ":G1 {\n",
            "    :Mary :knows :John,\n",
            "            :Mary,\n",
            "            :Peter .\n",
            "}\n",
            "\n",
            "\n"
          ]
        }
      ]
    },
    {
      "cell_type": "markdown",
      "source": [
        "# Task 3\n",
        "Fragen Sie mittels INSERT-WHERE die :knows-Beziehungen aus :G2 ab und fügen deren inverse :knownBy-Beziehungen in den Default-Graph ein.\n",
        "Ihr Update Request darf nicht enthalten: [Mary, Peter, John]\n"
      ],
      "metadata": {
        "id": "jFosCZAABAty"
      }
    },
    {
      "cell_type": "code",
      "source": [
        "ds.update(\"\"\"\n",
        "INSERT {GRAPH :main{\n",
        "?a :knownBy ?b . }}\n",
        "WHERE{\n",
        "GRAPH :G2\n",
        "{?b :knows ?a .}}\n",
        "\n",
        "\"\"\")\n",
        "\n",
        "print(ds.serialize(format=\"trig\"))"
      ],
      "metadata": {
        "colab": {
          "base_uri": "https://localhost:8080/"
        },
        "outputId": "1f197a8e-1c9e-44be-dd29-ab17e9b9d33b",
        "id": "tHtMCEkpBJKo"
      },
      "execution_count": 151,
      "outputs": [
        {
          "output_type": "stream",
          "name": "stdout",
          "text": [
            "@prefix : <http://example.org/> .\n",
            "\n",
            ":main {\n",
            "    :G1 :author :Mary .\n",
            "\n",
            "    :G2 :author :Peter .\n",
            "\n",
            "    :Mary :knownBy :John,\n",
            "            :Peter .\n",
            "}\n",
            "\n",
            ":G2 {\n",
            "    :John :knows :Mary .\n",
            "\n",
            "    :Peter :knows :Mary .\n",
            "}\n",
            "\n",
            ":G1 {\n",
            "    :Mary :knows :John,\n",
            "            :Mary,\n",
            "            :Peter .\n",
            "}\n",
            "\n",
            "\n"
          ]
        }
      ]
    },
    {
      "cell_type": "markdown",
      "source": [
        "# Task 4\n",
        "Löschen Sie mittels DELETE-WHERE alle :knownBy-Beziehungen aus dem Default-Graph.\n",
        "Ihr Update Request darf nicht enthalten: [Mary, Peter, John]\n"
      ],
      "metadata": {
        "id": "cozARKWaHmrq"
      }
    },
    {
      "cell_type": "code",
      "source": [
        "ds.update(\"\"\"\n",
        "DELETE WHERE{GRAPH :main{\n",
        "?a :knownBy ?b . }}\n",
        "\n",
        "\"\"\")\n",
        "\n",
        "print(ds.serialize(format=\"trig\"))"
      ],
      "metadata": {
        "colab": {
          "base_uri": "https://localhost:8080/"
        },
        "id": "tTy2mahXHp87",
        "outputId": "c77b8325-04f0-4091-ad5b-bda386e01812"
      },
      "execution_count": 152,
      "outputs": [
        {
          "output_type": "stream",
          "name": "stdout",
          "text": [
            "@prefix : <http://example.org/> .\n",
            "\n",
            ":main {\n",
            "    :G1 :author :Mary .\n",
            "\n",
            "    :G2 :author :Peter .\n",
            "}\n",
            "\n",
            ":G2 {\n",
            "    :John :knows :Mary .\n",
            "\n",
            "    :Peter :knows :Mary .\n",
            "}\n",
            "\n",
            ":G1 {\n",
            "    :Mary :knows :John,\n",
            "            :Mary,\n",
            "            :Peter .\n",
            "}\n",
            "\n",
            "\n"
          ]
        }
      ]
    },
    {
      "cell_type": "markdown",
      "source": [
        "# Task 5\n",
        "Ermitteln Sie mittels INSERT-WHERE zu jedem Named-Graph dessen Anzahl an Statements mit der Property :knows und schreiben Sie diese in den Default Graph.\n",
        "Ihr Update Request darf nicht enthalten: [G1, G2]"
      ],
      "metadata": {
        "id": "TRLHLjYXU63k"
      }
    },
    {
      "cell_type": "code",
      "source": [
        "ds.update(\"\"\"\n",
        "INSERT {GRAPH :main{\n",
        "?a :knowsCount ?val . }\n",
        "}\n",
        "WHERE {\n",
        "\n",
        "SELECT  ?a (COUNT(?f) AS ?val)\n",
        "WHERE {\n",
        "  GRAPH ?a{\n",
        "    ?x :knows ?f .\n",
        "     }\n",
        "}\n",
        "GROUP BY ?a\n",
        "}\n",
        "\n",
        "\"\"\")\n",
        "\n",
        "print(ds.serialize(format=\"trig\"))"
      ],
      "metadata": {
        "colab": {
          "base_uri": "https://localhost:8080/"
        },
        "id": "smlkBMaQVDKr",
        "outputId": "64a31259-2793-44c2-9d5c-82f1e5c2804e"
      },
      "execution_count": 153,
      "outputs": [
        {
          "output_type": "stream",
          "name": "stdout",
          "text": [
            "@prefix : <http://example.org/> .\n",
            "@prefix xsd: <http://www.w3.org/2001/XMLSchema#> .\n",
            "\n",
            ":main {\n",
            "    :G1 :author :Mary ;\n",
            "        :knowsCount 3 .\n",
            "\n",
            "    :G2 :author :Peter ;\n",
            "        :knowsCount 2 .\n",
            "}\n",
            "\n",
            ":G2 {\n",
            "    :John :knows :Mary .\n",
            "\n",
            "    :Peter :knows :Mary .\n",
            "}\n",
            "\n",
            ":G1 {\n",
            "    :Mary :knows :John,\n",
            "            :Mary,\n",
            "            :Peter .\n",
            "}\n",
            "\n",
            "\n"
          ]
        }
      ]
    },
    {
      "cell_type": "markdown",
      "source": [
        "# Task 6\n",
        "Ermitteln Sie mittels INSERT-WHERE die Anzahl an Named Graphs und schreiben Sie sie in den Default Graph.\n",
        "Ihr Update Request darf nicht enthalten: [2]"
      ],
      "metadata": {
        "id": "HETnNUoAWq_w"
      }
    },
    {
      "cell_type": "code",
      "source": [
        "ds.update(\"\"\"\n",
        "INSERT {GRAPH :main{\n",
        ":ds :graphCount ?val .}\n",
        "}\n",
        "WHERE {\n",
        "SELECT (COUNT(DISTINCT ?f) AS ?val)\n",
        "WHERE {\n",
        "GRAPH ?f {\n",
        "  ?s ?p ?o\n",
        "}\n",
        "}\n",
        "}\n",
        "\n",
        "\"\"\")\n",
        "\n",
        "print(ds.serialize(format=\"trig\"))"
      ],
      "metadata": {
        "colab": {
          "base_uri": "https://localhost:8080/"
        },
        "id": "lmSr8zxQWwZB",
        "outputId": "b261874f-6af9-45df-bff3-f7af72dee8af"
      },
      "execution_count": 154,
      "outputs": [
        {
          "output_type": "stream",
          "name": "stdout",
          "text": [
            "@prefix : <http://example.org/> .\n",
            "@prefix xsd: <http://www.w3.org/2001/XMLSchema#> .\n",
            "\n",
            ":main {\n",
            "    :G1 :author :Mary ;\n",
            "        :knowsCount 3 .\n",
            "\n",
            "    :G2 :author :Peter ;\n",
            "        :knowsCount 2 .\n",
            "\n",
            "    :ds :graphCount 3 .\n",
            "}\n",
            "\n",
            ":G2 {\n",
            "    :John :knows :Mary .\n",
            "\n",
            "    :Peter :knows :Mary .\n",
            "}\n",
            "\n",
            ":G1 {\n",
            "    :Mary :knows :John,\n",
            "            :Mary,\n",
            "            :Peter .\n",
            "}\n",
            "\n",
            "\n"
          ]
        }
      ]
    },
    {
      "cell_type": "markdown",
      "source": [
        "# Task 7\n",
        "Verschieben Sie mittels DELETE-INSERT-WHERE alle Metadaten zu Named Graphs (also Statements die einen Named Graph als Subjekt haben) in den entsprechenden Named Graph.\n",
        "Ihr Update Request darf nicht enthalten: [G1, G2]"
      ],
      "metadata": {
        "id": "iy_luihubSSD"
      }
    },
    {
      "cell_type": "code",
      "source": [
        "ds.update(\"\"\"\n",
        "DELETE {GRAPH :main{\n",
        "?graph ?x ?y .}\n",
        "}\n",
        "INSERT {\n",
        "GRAPH ?graph{\n",
        "?graph ?x ?y .\n",
        "}\n",
        "}\n",
        "WHERE {\n",
        "GRAPH ?graph {}\n",
        "GRAPH :main {?graph ?x ?y .}\n",
        "}\n",
        "\n",
        "\"\"\")\n",
        "\n",
        "print(ds.serialize(format=\"trig\"))"
      ],
      "metadata": {
        "colab": {
          "base_uri": "https://localhost:8080/"
        },
        "id": "ACAzMC7IbWuP",
        "outputId": "2031fae6-4d52-4e1b-d163-81237a838967"
      },
      "execution_count": 155,
      "outputs": [
        {
          "output_type": "stream",
          "name": "stdout",
          "text": [
            "@prefix : <http://example.org/> .\n",
            "@prefix xsd: <http://www.w3.org/2001/XMLSchema#> .\n",
            "\n",
            ":main {\n",
            "    :ds :graphCount 3 .\n",
            "}\n",
            "\n",
            ":G2 {\n",
            "    :G2 :author :Peter ;\n",
            "        :knowsCount 2 .\n",
            "\n",
            "    :John :knows :Mary .\n",
            "\n",
            "    :Peter :knows :Mary .\n",
            "}\n",
            "\n",
            ":G1 {\n",
            "    :G1 :author :Mary ;\n",
            "        :knowsCount 3 .\n",
            "\n",
            "    :Mary :knows :John,\n",
            "            :Mary,\n",
            "            :Peter .\n",
            "}\n",
            "\n",
            "\n"
          ]
        }
      ]
    },
    {
      "cell_type": "markdown",
      "source": [
        "# Task 8\n",
        "Schreiben Sie in jeden Named Graph ein Statement, dass der Autor des jeweiligen Named Graphs die :Susi kennt und aktualisieren Sie mit dem selben UpdateRequest den knowsCount.\n",
        "Ihr Update Request darf nicht enthalten: [Peter, Mary]"
      ],
      "metadata": {
        "id": "7b_FCg0aguMN"
      }
    },
    {
      "cell_type": "code",
      "source": [
        "ds.update(\"\"\"\n",
        "DELETE{\n",
        "GRAPH ?graph{\n",
        "?graph :knowsCount ?oldval .\n",
        "}}\n",
        "INSERT {\n",
        "GRAPH ?graph{\n",
        "?author :knows :Susi .\n",
        "?graph :knowsCount ?val .\n",
        "}\n",
        "}\n",
        "WHERE {\n",
        "GRAPH ?graph{\n",
        "?graph :author ?author .\n",
        "?graph :knowsCount ?oldval .\n",
        "BIND (?oldval +1 AS ?val )\n",
        "}\n",
        "}\n",
        "\n",
        "\"\"\")\n",
        "\n",
        "print(ds.serialize(format=\"trig\"))"
      ],
      "metadata": {
        "colab": {
          "base_uri": "https://localhost:8080/"
        },
        "id": "oLR62x5zgynT",
        "outputId": "adb1ea4e-d90f-4e58-fe72-702bafa0c833"
      },
      "execution_count": 156,
      "outputs": [
        {
          "output_type": "stream",
          "name": "stdout",
          "text": [
            "@prefix : <http://example.org/> .\n",
            "@prefix xsd: <http://www.w3.org/2001/XMLSchema#> .\n",
            "\n",
            ":main {\n",
            "    :ds :graphCount 3 .\n",
            "}\n",
            "\n",
            ":G2 {\n",
            "    :G2 :author :Peter ;\n",
            "        :knowsCount 3 .\n",
            "\n",
            "    :John :knows :Mary .\n",
            "\n",
            "    :Peter :knows :Mary,\n",
            "            :Susi .\n",
            "}\n",
            "\n",
            ":G1 {\n",
            "    :G1 :author :Mary ;\n",
            "        :knowsCount 4 .\n",
            "\n",
            "    :Mary :knows :John,\n",
            "            :Mary,\n",
            "            :Peter,\n",
            "            :Susi .\n",
            "}\n",
            "\n",
            "\n"
          ]
        }
      ]
    },
    {
      "cell_type": "markdown",
      "source": [
        "# Task 9\n",
        "Task 9 (2 points) is to develop a nice visualization of RDF datasets using visualize_graph_pyvis from UE02 as a starting point. The requirements are as follows:\n",
        "\n",
        "Each named graph must be represented as an independent graph. This means, for example, that :Jane in :JanesGraph is a different node than :Jane in :BillsGraph. There are no edges between nodes in different graphs.\n",
        "\n",
        "It is not strictly necessary to draw a box around each named graph, as seen in the slides. The different named graphs should simply be visually distinguishable and not overlap.\n",
        "\n",
        "If not all nodes within a named graph are connected, make sure in the visualization that the named graph still forms a coherent visual unit in some way.\n"
      ],
      "metadata": {
        "id": "szNFoyt7lLMp"
      }
    }
  ]
}